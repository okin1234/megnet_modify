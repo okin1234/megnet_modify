{
 "cells": [
  {
   "cell_type": "code",
   "execution_count": null,
   "id": "3f544953-548f-4d9a-99be-440c0dbf9e3b",
   "metadata": {},
   "outputs": [],
   "source": [
    "import run"
   ]
  },
  {
   "cell_type": "code",
   "execution_count": 2,
   "id": "64e254a1-b0af-48b9-a856-c647f0f85dd5",
   "metadata": {},
   "outputs": [],
   "source": [
    "from run import trainer"
   ]
  },
  {
   "cell_type": "code",
   "execution_count": 3,
   "id": "95a41d74-6490-4573-a667-cfad9dc372f0",
   "metadata": {},
   "outputs": [],
   "source": [
    "base_dir=\"/home/rnwnsgud1234/4.BRL/12.MEGNET/Datasets/\"\n",
    "\n",
    "''' feature 종류 setting '''\n",
    "atom_features=['element', 'formal_charge', 'hybridization', 'donor', 'acceptor'] \n",
    "bond_features=['spatial_distance', 'same_ring', 'bond_type']\n",
    "global_features=['fedility']\n",
    "\n",
    "'''model setting'''\n",
    "nblocks=3\n",
    "global_embedding_dim=16\n",
    "npass=2\n",
    "\n",
    "''' data 개수 조절 '''\n",
    "num_xtb_data=None\n",
    "num_g09_data=None\n",
    "\n",
    "''' 데이트 load해서 쓸건지? '''\n",
    "load=False\n",
    "\n",
    "''' 데이터 관련 기타 setting '''\n",
    "random_state=1000\n",
    "#g09_data_cut=-10\n",
    "with_rdkit=True\n",
    "rdkit_rank=10\n",
    "to_class=True\n",
    "class_num=5\n",
    "cut_mode='qcut'\n",
    "onehot=True\n",
    "\n",
    "running = trainer(base_dir, atom_features, bond_features, global_features, nblocks, global_embedding_dim, npass, num_xtb_data, num_g09_data, load, random_state, g09_data_cut, with_rdkit, rdkit_rank, to_class, cut_mode, onehot)"
   ]
  },
  {
   "cell_type": "code",
   "execution_count": 4,
   "id": "ebc1152d-4986-4b57-ab0e-a736bd57a560",
   "metadata": {
    "collapsed": true,
    "jupyter": {
     "outputs_hidden": true
    },
    "tags": []
   },
   "outputs": [
    {
     "name": "stdout",
     "output_type": "stream",
     "text": [
      "g09 datas convert to graph datas~~\n"
     ]
    },
    {
     "name": "stderr",
     "output_type": "stream",
     "text": [
      "100%|███████████████████████████████████████████████████████████████████████████████████████████████████████████████████████████████████████████████| 502/502 [00:01<00:00, 331.61it/s]\n"
     ]
    },
    {
     "name": "stdout",
     "output_type": "stream",
     "text": [
      "g09 datas convert to graph datas~~\n"
     ]
    },
    {
     "name": "stderr",
     "output_type": "stream",
     "text": [
      "100%|██████████████████████████████████████████████████████████████████████████████████████████████████████████████████████████████████████████████| 457/457 [00:00<00:00, 4304.03it/s]\n"
     ]
    },
    {
     "name": "stdout",
     "output_type": "stream",
     "text": [
      "xtb datas conver to graph datas~~ (it may be doing for few minutes...)\n"
     ]
    },
    {
     "name": "stderr",
     "output_type": "stream",
     "text": [
      "100%|████████████████████████████████████████████████████████████████████████████████████████████████████████████████████████████████████████| 123269/123269 [00:27<00:00, 4408.13it/s]\n"
     ]
    },
    {
     "name": "stdout",
     "output_type": "stream",
     "text": [
      "The length of g09_datas is 457\n",
      "The length of g09_targets is 457\n",
      "xtb datas conver to graph datas~~ (it may be doing for few minutes...)\n"
     ]
    },
    {
     "name": "stderr",
     "output_type": "stream",
     "text": [
      "100%|███████████████████████████████████████████████████████████████████████████████████████████████████████████████████████████████████████| 134239/134239 [00:06<00:00, 20900.31it/s]\n"
     ]
    },
    {
     "name": "stdout",
     "output_type": "stream",
     "text": [
      "The length of xtb_datas is 971\n",
      "The length of xtb_targets is 971\n",
      "Train, val data sizes are  1336 92\n"
     ]
    },
    {
     "name": "stderr",
     "output_type": "stream",
     "text": [
      "ERROR:wandb.jupyter:Failed to detect the name of this notebook, you can set it manually with the WANDB_NOTEBOOK_NAME environment variable to enable code saving.\n",
      "\u001b[34m\u001b[1mwandb\u001b[0m: Currently logged in as: \u001b[33mihateml\u001b[0m (use `wandb login --relogin` to force relogin)\n"
     ]
    },
    {
     "data": {
      "text/html": [
       "wandb version 0.12.14 is available!  To upgrade, please run:\n",
       " $ pip install wandb --upgrade"
      ],
      "text/plain": [
       "<IPython.core.display.HTML object>"
      ]
     },
     "metadata": {},
     "output_type": "display_data"
    },
    {
     "data": {
      "text/html": [
       "Tracking run with wandb version 0.12.11"
      ],
      "text/plain": [
       "<IPython.core.display.HTML object>"
      ]
     },
     "metadata": {},
     "output_type": "display_data"
    },
    {
     "data": {
      "text/html": [
       "Run data is saved locally in <code>/home/rnwnsgud1234/4.BRL/12.MEGNET/MEGNET/megnet_custom/wandb/run-20220420_205741-34fa3nka</code>"
      ],
      "text/plain": [
       "<IPython.core.display.HTML object>"
      ]
     },
     "metadata": {},
     "output_type": "display_data"
    },
    {
     "data": {
      "text/html": [
       "Syncing run <strong><a href=\"https://wandb.ai/ihateml/MEGNET-megnet_custom/runs/34fa3nka\" target=\"_blank\">fragrant-moon-9</a></strong> to <a href=\"https://wandb.ai/ihateml/MEGNET-megnet_custom\" target=\"_blank\">Weights & Biases</a> (<a href=\"https://wandb.me/run\" target=\"_blank\">docs</a>)<br/>"
      ],
      "text/plain": [
       "<IPython.core.display.HTML object>"
      ]
     },
     "metadata": {},
     "output_type": "display_data"
    },
    {
     "data": {
      "text/html": [
       "Finishing last run (ID:34fa3nka) before initializing another..."
      ],
      "text/plain": [
       "<IPython.core.display.HTML object>"
      ]
     },
     "metadata": {},
     "output_type": "display_data"
    },
    {
     "name": "stdout",
     "output_type": "stream",
     "text": [
      "\n"
     ]
    },
    {
     "data": {
      "text/html": [
       "Waiting for W&B process to finish... <strong style=\"color:green\">(success).</strong>"
      ],
      "text/plain": [
       "<IPython.core.display.HTML object>"
      ]
     },
     "metadata": {},
     "output_type": "display_data"
    },
    {
     "data": {
      "application/vnd.jupyter.widget-view+json": {
       "model_id": "",
       "version_major": 2,
       "version_minor": 0
      },
      "text/plain": [
       "VBox(children=(Label(value='0.000 MB of 0.000 MB uploaded (0.000 MB deduped)\\r'), FloatProgress(value=1.0, max…"
      ]
     },
     "metadata": {},
     "output_type": "display_data"
    },
    {
     "data": {
      "text/html": [
       "Synced <strong style=\"color:#cdcd00\">fragrant-moon-9</strong>: <a href=\"https://wandb.ai/ihateml/MEGNET-megnet_custom/runs/34fa3nka\" target=\"_blank\">https://wandb.ai/ihateml/MEGNET-megnet_custom/runs/34fa3nka</a><br/>Synced 6 W&B file(s), 0 media file(s), 0 artifact file(s) and 1 other file(s)"
      ],
      "text/plain": [
       "<IPython.core.display.HTML object>"
      ]
     },
     "metadata": {},
     "output_type": "display_data"
    },
    {
     "data": {
      "text/html": [
       "Find logs at: <code>./wandb/run-20220420_205741-34fa3nka/logs</code>"
      ],
      "text/plain": [
       "<IPython.core.display.HTML object>"
      ]
     },
     "metadata": {},
     "output_type": "display_data"
    },
    {
     "data": {
      "text/html": [
       "Successfully finished last run (ID:34fa3nka). Initializing new run:<br/>"
      ],
      "text/plain": [
       "<IPython.core.display.HTML object>"
      ]
     },
     "metadata": {},
     "output_type": "display_data"
    },
    {
     "data": {
      "text/html": [
       "wandb version 0.12.14 is available!  To upgrade, please run:\n",
       " $ pip install wandb --upgrade"
      ],
      "text/plain": [
       "<IPython.core.display.HTML object>"
      ]
     },
     "metadata": {},
     "output_type": "display_data"
    },
    {
     "data": {
      "text/html": [
       "Tracking run with wandb version 0.12.11"
      ],
      "text/plain": [
       "<IPython.core.display.HTML object>"
      ]
     },
     "metadata": {},
     "output_type": "display_data"
    },
    {
     "data": {
      "text/html": [
       "Run data is saved locally in <code>/home/rnwnsgud1234/4.BRL/12.MEGNET/MEGNET/megnet_custom/wandb/run-20220420_205748-3bq1jdty</code>"
      ],
      "text/plain": [
       "<IPython.core.display.HTML object>"
      ]
     },
     "metadata": {},
     "output_type": "display_data"
    },
    {
     "data": {
      "text/html": [
       "Syncing run <strong><a href=\"https://wandb.ai/ihateml/testing/runs/3bq1jdty\" target=\"_blank\">rich-aardvark-134</a></strong> to <a href=\"https://wandb.ai/ihateml/testing\" target=\"_blank\">Weights & Biases</a> (<a href=\"https://wandb.me/run\" target=\"_blank\">docs</a>)<br/>"
      ],
      "text/plain": [
       "<IPython.core.display.HTML object>"
      ]
     },
     "metadata": {},
     "output_type": "display_data"
    },
    {
     "name": "stderr",
     "output_type": "stream",
     "text": [
      "\u001b[34m\u001b[1mwandb\u001b[0m: \u001b[33mWARNING\u001b[0m Calling wandb.run.save without any arguments is deprecated.Changes to attributes are automatically persisted.\n",
      "2022-04-20 20:58:01.937023: I tensorflow/core/platform/cpu_feature_guard.cc:151] This TensorFlow binary is optimized with oneAPI Deep Neural Network Library (oneDNN) to use the following CPU instructions in performance-critical operations:  AVX2 FMA\n",
      "To enable them in other operations, rebuild TensorFlow with the appropriate compiler flags.\n",
      "2022-04-20 20:58:02.578702: I tensorflow/core/common_runtime/gpu/gpu_device.cc:1525] Created device /job:localhost/replica:0/task:0/device:GPU:0 with 5652 MB memory:  -> device: 0, name: GeForce RTX 2080 Ti, pci bus id: 0000:81:00.0, compute capability: 7.5\n",
      "\u001b[34m\u001b[1mwandb\u001b[0m: \u001b[33mWARNING\u001b[0m WandbCallback is unable to log validation data. When using a generator for validation_data, you must pass validation_steps\n"
     ]
    },
    {
     "name": "stdout",
     "output_type": "stream",
     "text": [
      "Epoch 1/2\n"
     ]
    },
    {
     "name": "stderr",
     "output_type": "stream",
     "text": [
      "INFO:megnet.callbacks:\n",
      "Epoch 00001: val_mae improved from inf to 0.68979, saving model to callback/val_mae_00001_0.689793.hdf5\n"
     ]
    },
    {
     "name": "stdout",
     "output_type": "stream",
     "text": [
      "11/11 - 23s - loss: 2.7717 - mae: 1.3128 - val_loss: 0.7046 - val_mae: 0.6898 - _timestamp: 1650455904.0000 - _runtime: 30.0000 - 23s/epoch - 2s/step\n",
      "Epoch 2/2\n"
     ]
    },
    {
     "name": "stderr",
     "output_type": "stream",
     "text": [
      "INFO:megnet.callbacks:\n",
      "Epoch 00002: val_mae improved from 0.68979 to 0.41576, saving model to callback/val_mae_00002_0.415757.hdf5\n"
     ]
    },
    {
     "name": "stdout",
     "output_type": "stream",
     "text": [
      "11/11 - 2s - loss: 0.5590 - mae: 0.5769 - val_loss: 0.2953 - val_mae: 0.4158 - _timestamp: 1650455909.0000 - _runtime: 35.0000 - 2s/epoch - 165ms/step\n",
      "\n"
     ]
    },
    {
     "data": {
      "text/html": [
       "Waiting for W&B process to finish... <strong style=\"color:green\">(success).</strong>"
      ],
      "text/plain": [
       "<IPython.core.display.HTML object>"
      ]
     },
     "metadata": {},
     "output_type": "display_data"
    },
    {
     "data": {
      "application/vnd.jupyter.widget-view+json": {
       "model_id": "",
       "version_major": 2,
       "version_minor": 0
      },
      "text/plain": [
       "VBox(children=(Label(value='3.753 MB of 3.753 MB uploaded (0.000 MB deduped)\\r'), FloatProgress(value=1.0, max…"
      ]
     },
     "metadata": {},
     "output_type": "display_data"
    },
    {
     "data": {
      "text/html": [
       "<style>\n",
       "    table.wandb td:nth-child(1) { padding: 0 10px; text-align: right }\n",
       "    .wandb-row { display: flex; flex-direction: row; flex-wrap: wrap; width: 100% }\n",
       "    .wandb-col { display: flex; flex-direction: column; flex-basis: 100%; flex: 1; padding: 10px; }\n",
       "    </style>\n",
       "<div class=\"wandb-row\"><div class=\"wandb-col\"><h3>Run history:</h3><br/><table class=\"wandb\"><tr><td>epoch</td><td>▁█</td></tr><tr><td>loss</td><td>█▁</td></tr><tr><td>mae</td><td>█▁</td></tr><tr><td>val_loss</td><td>█▁</td></tr><tr><td>val_mae</td><td>█▁</td></tr></table><br/></div><div class=\"wandb-col\"><h3>Run summary:</h3><br/><table class=\"wandb\"><tr><td>best_epoch</td><td>1</td></tr><tr><td>best_val_mae</td><td>0.41576</td></tr><tr><td>epoch</td><td>1</td></tr><tr><td>loss</td><td>0.55901</td></tr><tr><td>mae</td><td>0.57688</td></tr><tr><td>val_loss</td><td>0.29525</td></tr><tr><td>val_mae</td><td>0.41576</td></tr></table><br/></div></div>"
      ],
      "text/plain": [
       "<IPython.core.display.HTML object>"
      ]
     },
     "metadata": {},
     "output_type": "display_data"
    },
    {
     "data": {
      "text/html": [
       "Synced <strong style=\"color:#cdcd00\">rich-aardvark-134</strong>: <a href=\"https://wandb.ai/ihateml/testing/runs/3bq1jdty\" target=\"_blank\">https://wandb.ai/ihateml/testing/runs/3bq1jdty</a><br/>Synced 7 W&B file(s), 1 media file(s), 0 artifact file(s) and 1 other file(s)"
      ],
      "text/plain": [
       "<IPython.core.display.HTML object>"
      ]
     },
     "metadata": {},
     "output_type": "display_data"
    },
    {
     "data": {
      "text/html": [
       "Find logs at: <code>./wandb/run-20220420_205748-3bq1jdty/logs</code>"
      ],
      "text/plain": [
       "<IPython.core.display.HTML object>"
      ]
     },
     "metadata": {},
     "output_type": "display_data"
    }
   ],
   "source": [
    "''' running setting '''\n",
    "epochs=2\n",
    "lr=0.001\n",
    "batch_size=8\n",
    "dropout=0.1\n",
    "\n",
    "''' wandb setting '''\n",
    "wandb_on=True\n",
    "wandb_project=None\n",
    "wandb_name='code_test'\n",
    "wandb_memo='code_test'\n",
    "wandb_group='code_test'\n",
    "\n",
    "running.train(epochs, lr, batch_size, dropout, wandb_on, wandb_project, wandb_name, wandb_memo, wandb_group)"
   ]
  }
 ],
 "metadata": {
  "kernelspec": {
   "display_name": "megnet",
   "language": "python",
   "name": "megnet"
  },
  "language_info": {
   "codemirror_mode": {
    "name": "ipython",
    "version": 3
   },
   "file_extension": ".py",
   "mimetype": "text/x-python",
   "name": "python",
   "nbconvert_exporter": "python",
   "pygments_lexer": "ipython3",
   "version": "3.9.10"
  }
 },
 "nbformat": 4,
 "nbformat_minor": 5
}
