{
 "cells": [
  {
   "cell_type": "code",
   "execution_count": 29,
   "id": "1ae60ff9-e9c3-47b3-b838-64f7beb7195d",
   "metadata": {},
   "outputs": [],
   "source": [
    "import openbabel\n",
    "from openbabel.pybel import readstring\n",
    "import os\n",
    "import rdkit\n",
    "from rdkit import Chem\n",
    "from pymatgen.analysis.local_env import NearNeighbors\n",
    "from pymatgen.core import Element, Molecule\n",
    "from pymatgen.io.babel import BabelMolAdaptor"
   ]
  },
  {
   "cell_type": "code",
   "execution_count": 4,
   "id": "e0e9411f-5bb6-438e-bfd2-6a887ee31917",
   "metadata": {},
   "outputs": [],
   "source": [
    "def xyz2graph(xyz_file, state_attributes):\n",
    "    with open(xyz_file, 'r') as f:\n",
    "        string = f.read()\n",
    "    name = os.path.basename(xyz_file).split(\".xyz\")[0]\n",
    "    mol = readstring('xyz', string)\n",
    "    structure_data = molecule_graph.convert(mol, state_attributes=state_attributes, full_pair_matrix=False)\n",
    "    return name, structure_data"
   ]
  },
  {
   "cell_type": "code",
   "execution_count": 72,
   "id": "f40c75d9-a431-4756-b288-1fc4ab6e3a35",
   "metadata": {},
   "outputs": [],
   "source": [
    "xyz_file = \"../../../../Datasets/g09/relaxed_xyz/101192837.xyz\"\n",
    "with open(xyz_file, 'r') as f:\n",
    "    string = f.read()\n",
    "name = os.path.basename(xyz_file).split(\".xyz\")[0]\n",
    "mol = readstring('xyz', string)\n",
    "\n"
   ]
  },
  {
   "cell_type": "code",
   "execution_count": 74,
   "id": "6374e273-0183-4f5f-b5ab-6034dcccdd0e",
   "metadata": {},
   "outputs": [],
   "source": [
    "atom = mol.atoms[0]\n",
    "obatom = atom.OBAtom"
   ]
  },
  {
   "cell_type": "code",
   "execution_count": 75,
   "id": "5fa9f159-576c-4a87-b7fa-042cb7716b83",
   "metadata": {},
   "outputs": [],
   "source": [
    "element = Element.from_Z(obatom.GetAtomicNum()).symbol"
   ]
  },
  {
   "cell_type": "code",
   "execution_count": 76,
   "id": "4154f5c9-1fa8-497f-b3df-2d6ab92d6499",
   "metadata": {},
   "outputs": [],
   "source": [
    "from openbabel import openbabel"
   ]
  },
  {
   "cell_type": "code",
   "execution_count": 78,
   "id": "888b38ab-0b51-4122-99cd-46ad39861791",
   "metadata": {},
   "outputs": [
    {
     "data": {
      "text/plain": [
       "2"
      ]
     },
     "execution_count": 78,
     "metadata": {},
     "output_type": "execute_result"
    }
   ],
   "source": [
    "''' The current number of explicit connections '''\n",
    "atom.OBAtom.GetTotalValence()"
   ]
  },
  {
   "cell_type": "code",
   "execution_count": 85,
   "id": "e4f897f0-6b4d-4e22-aad0-658afe7d6faa",
   "metadata": {},
   "outputs": [
    {
     "data": {
      "text/plain": [
       "1"
      ]
     },
     "execution_count": 85,
     "metadata": {},
     "output_type": "execute_result"
    }
   ],
   "source": [
    "''' The number of non-hydrogens connected to this atom '''\n",
    "obatom.GetHvyDegree()"
   ]
  },
  {
   "cell_type": "code",
   "execution_count": 87,
   "id": "fe674e8b-7455-4575-ab75-0007a8f0e473",
   "metadata": {},
   "outputs": [
    {
     "data": {
      "text/plain": [
       "0"
      ]
     },
     "execution_count": 87,
     "metadata": {},
     "output_type": "execute_result"
    }
   ],
   "source": [
    "''' The number of heteroatoms connected to an atom '''\n",
    "obatom.GetHeteroDegree()"
   ]
  },
  {
   "cell_type": "code",
   "execution_count": 89,
   "id": "f6686c99-c985-4de0-83b4-4db3a98ae350",
   "metadata": {},
   "outputs": [
    {
     "data": {
      "text/plain": [
       "0"
      ]
     },
     "execution_count": 89,
     "metadata": {},
     "output_type": "execute_result"
    }
   ],
   "source": [
    "''' The number of oxygen atoms connected that only have one heavy valence '''\n",
    "obatom.CountFreeOxygens()"
   ]
  },
  {
   "cell_type": "code",
   "execution_count": 79,
   "id": "28d6129b-3e4d-4f69-98d7-547073e3d756",
   "metadata": {},
   "outputs": [
    {
     "data": {
      "text/plain": [
       "2"
      ]
     },
     "execution_count": 79,
     "metadata": {},
     "output_type": "execute_result"
    }
   ],
   "source": [
    "' ??? '''\n",
    "atom.OBAtom.GetExplicitValence()"
   ]
  },
  {
   "cell_type": "code",
   "execution_count": 90,
   "id": "8e2aa108-e9ad-49bf-a929-e096d9ee68e0",
   "metadata": {},
   "outputs": [
    {
     "data": {
      "text/plain": [
       "False"
      ]
     },
     "execution_count": 90,
     "metadata": {},
     "output_type": "execute_result"
    }
   ],
   "source": [
    "''' Is this atom an oxygen in a carboxyl (-CO2 or CO2H) group? '''\n",
    "atom.OBAtom.IsCarboxylOxygen()"
   ]
  },
  {
   "cell_type": "code",
   "execution_count": null,
   "id": "d947d07f-5642-4463-9dfd-9fb47ed62bdb",
   "metadata": {},
   "outputs": [],
   "source": [
    "''' Is this atom an oxygen in a sulfate (-SO3) group? '''\n",
    "obatom.IsSulfateOxygen()"
   ]
  },
  {
   "cell_type": "code",
   "execution_count": null,
   "id": "0548d768-51be-49c0-a3b2-e6d9c9cfed75",
   "metadata": {},
   "outputs": [],
   "source": [
    "''' Is this atom an oxygen in a nitro (-NO2) group? '''\n",
    "obatom.IsNiroOxygen()"
   ]
  },
  {
   "cell_type": "code",
   "execution_count": null,
   "id": "ada8cf49-ea6a-40f4-9375-ad48274d04b2",
   "metadata": {},
   "outputs": [],
   "source": [
    "''' Is this atom a nitrogen in an amide (-C(=O)NR2) group? '''\n",
    "obatom.IsAmideNitrogen()"
   ]
  },
  {
   "cell_type": "code",
   "execution_count": null,
   "id": "9f2c9073-a7a5-49cc-847a-41fd37fcbc72",
   "metadata": {},
   "outputs": [],
   "source": [
    "''' Is this atom an aromatic nitrogen with at least one double bond to an oxygen atom '''\n",
    "obatom.IsAromaticNOxide()"
   ]
  },
  {
   "cell_type": "code",
   "execution_count": 93,
   "id": "f2bc5f8e-992b-42fb-95df-f68796a8a2af",
   "metadata": {},
   "outputs": [
    {
     "data": {
      "text/plain": [
       "True"
      ]
     },
     "execution_count": 93,
     "metadata": {},
     "output_type": "execute_result"
    }
   ],
   "source": [
    "''' Is this atom a hydrogen-bond acceptor (receptor)? '''\n",
    "obatom.IsHbondAcceptor()"
   ]
  },
  {
   "cell_type": "code",
   "execution_count": 94,
   "id": "2807cf4e-dfc2-480f-adbe-625fb1a4c75d",
   "metadata": {},
   "outputs": [
    {
     "data": {
      "text/plain": [
       "False"
      ]
     },
     "execution_count": 94,
     "metadata": {},
     "output_type": "execute_result"
    }
   ],
   "source": [
    "''' Is this atom a hydrogen-bond donor? '''\n",
    "obatom.IsHbondDonor()"
   ]
  },
  {
   "cell_type": "code",
   "execution_count": 97,
   "id": "2225c474-2eb0-45af-8bd1-6ee1b4f7f14b",
   "metadata": {},
   "outputs": [
    {
     "data": {
      "text/plain": [
       "True"
      ]
     },
     "execution_count": 97,
     "metadata": {},
     "output_type": "execute_result"
    }
   ],
   "source": [
    "''' Is this atom an element in the 15th or 16th main groups (i.e., N, O, P, S ...) ? '''\n",
    "obatom.IsHeteroatom()"
   ]
  },
  {
   "cell_type": "code",
   "execution_count": 98,
   "id": "97035246-7f2f-4648-be89-788e14e3a370",
   "metadata": {},
   "outputs": [
    {
     "data": {
      "text/plain": [
       "False"
      ]
     },
     "execution_count": 98,
     "metadata": {},
     "output_type": "execute_result"
    }
   ],
   "source": [
    "''' ??? '''\n",
    "obatom.IsHetAtom()"
   ]
  },
  {
   "cell_type": "code",
   "execution_count": null,
   "id": "568281bf-abad-4fea-95ed-feca9cb67729",
   "metadata": {},
   "outputs": [],
   "source": [
    "''' Whether this atom matches the first atom in a given SMARTS pattern '''\n",
    "obatom.MatchesSMARTS()"
   ]
  },
  {
   "cell_type": "code",
   "execution_count": 106,
   "id": "556c465f-b87f-4ed4-bc05-be741c516cc2",
   "metadata": {},
   "outputs": [
    {
     "ename": "TypeError",
     "evalue": "Wrong number or type of arguments for overloaded function 'OBChargeModel_ComputeCharges'.\n  Possible C/C++ prototypes are:\n    OpenBabel::OBChargeModel::ComputeCharges(OpenBabel::OBMol &)\n    OpenBabel::OBChargeModel::ComputeCharges(OpenBabel::OBMol &,char const *)\n",
     "output_type": "error",
     "traceback": [
      "\u001b[0;31m---------------------------------------------------------------------------\u001b[0m",
      "\u001b[0;31mTypeError\u001b[0m                                 Traceback (most recent call last)",
      "Input \u001b[0;32mIn [106]\u001b[0m, in \u001b[0;36m<cell line: 1>\u001b[0;34m()\u001b[0m\n\u001b[0;32m----> 1\u001b[0m \u001b[43mopenbabel\u001b[49m\u001b[38;5;241;43m.\u001b[39;49m\u001b[43mOBChargeModel\u001b[49m\u001b[38;5;241;43m.\u001b[39;49m\u001b[43mComputeCharges\u001b[49m\u001b[43m(\u001b[49m\u001b[43mmol\u001b[49m\u001b[38;5;241;43m.\u001b[39;49m\u001b[43mOBMol\u001b[49m\u001b[38;5;241;43m.\u001b[39;49m\u001b[43mGetTotalCharge\u001b[49m\u001b[43m(\u001b[49m\u001b[43m)\u001b[49m\u001b[43m)\u001b[49m\n",
      "\u001b[0;31mTypeError\u001b[0m: Wrong number or type of arguments for overloaded function 'OBChargeModel_ComputeCharges'.\n  Possible C/C++ prototypes are:\n    OpenBabel::OBChargeModel::ComputeCharges(OpenBabel::OBMol &)\n    OpenBabel::OBChargeModel::ComputeCharges(OpenBabel::OBMol &,char const *)\n"
     ]
    }
   ],
   "source": [
    "openbabel.OBChargeModel.ComputeCharges(mol.OBMol.GetTotalCharge())"
   ]
  },
  {
   "cell_type": "code",
   "execution_count": 91,
   "id": "78ea26b5-54d5-4abc-8b76-16212dd27956",
   "metadata": {},
   "outputs": [
    {
     "data": {
      "image/svg+xml": [
       "<svg xmlns=\"http://www.w3.org/2000/svg\" width=\"100\" height=\"100\" x=\"0\" y=\"0\" viewBox=\"0 0 218.564 260\" font-family=\"sans-serif\" stroke=\"rgb(0,0,0)\" stroke-width=\"2\" stroke-linecap=\"round\">\n",
       "<line x1=\"87.4\" y1=\"43.9\" x2=\"110.8\" y2=\"57.4\" opacity=\"1.0\" stroke=\"rgb(0,0,0)\" stroke-width=\"2.0\" />\n",
       "<line x1=\"84.4\" y1=\"49.1\" x2=\"107.8\" y2=\"62.6\" opacity=\"1.0\" stroke=\"rgb(0,0,0)\" stroke-width=\"2.0\" />\n",
       "<line x1=\"167.3\" y1=\"173.5\" x2=\"143.9\" y2=\"160.0\" opacity=\"1.0\" stroke=\"rgb(0,0,0)\" stroke-width=\"2.0\" />\n",
       "<line x1=\"167.3\" y1=\"106.5\" x2=\"143.9\" y2=\"120.0\" opacity=\"1.0\" stroke=\"rgb(0,0,0)\" stroke-width=\"2.0\" />\n",
       "<line x1=\"109.3\" y1=\"100.0\" x2=\"109.3\" y2=\"60.0\" opacity=\"1.0\" stroke=\"rgb(0,0,0)\" stroke-width=\"2.0\" />\n",
       "<line x1=\"112.3\" y1=\"180.0\" x2=\"112.3\" y2=\"207.0\" opacity=\"1.0\" stroke=\"rgb(0,0,0)\" stroke-width=\"2.0\" />\n",
       "<line x1=\"106.3\" y1=\"180.0\" x2=\"106.3\" y2=\"207.0\" opacity=\"1.0\" stroke=\"rgb(0,0,0)\" stroke-width=\"2.0\" />\n",
       "<line x1=\"109.3\" y1=\"60.0\" x2=\"132.7\" y2=\"46.5\" opacity=\"1.0\" stroke=\"rgb(0,0,0)\" stroke-width=\"2.0\" />\n",
       "<line x1=\"74.6\" y1=\"120.0\" x2=\"51.3\" y2=\"106.5\" opacity=\"1.0\" stroke=\"rgb(0,0,0)\" stroke-width=\"2.0\" />\n",
       "<line x1=\"76.1\" y1=\"162.6\" x2=\"52.8\" y2=\"176.1\" opacity=\"1.0\" stroke=\"rgb(0,0,0)\" stroke-width=\"2.0\" />\n",
       "<line x1=\"73.1\" y1=\"157.4\" x2=\"49.8\" y2=\"170.9\" opacity=\"1.0\" stroke=\"rgb(0,0,0)\" stroke-width=\"2.0\" />\n",
       "<line x1=\"109.3\" y1=\"100.0\" x2=\"74.6\" y2=\"120.0\" opacity=\"1.0\" stroke=\"rgb(0,0,0)\" stroke-width=\"2.0\" />\n",
       "<line x1=\"107.7\" y1=\"109.2\" x2=\"83.4\" y2=\"123.2\" opacity=\"1.0\" stroke=\"rgb(0,0,0)\" stroke-width=\"2.0\" />\n",
       "<line x1=\"74.6\" y1=\"120.0\" x2=\"74.6\" y2=\"160.0\" opacity=\"1.0\" stroke=\"rgb(0,0,0)\" stroke-width=\"2.0\" />\n",
       "<line x1=\"74.6\" y1=\"160.0\" x2=\"109.3\" y2=\"180.0\" opacity=\"1.0\" stroke=\"rgb(0,0,0)\" stroke-width=\"2.0\" />\n",
       "<line x1=\"109.3\" y1=\"180.0\" x2=\"143.9\" y2=\"160.0\" opacity=\"1.0\" stroke=\"rgb(0,0,0)\" stroke-width=\"2.0\" />\n",
       "<line x1=\"143.9\" y1=\"160.0\" x2=\"143.9\" y2=\"120.0\" opacity=\"1.0\" stroke=\"rgb(0,0,0)\" stroke-width=\"2.0\" />\n",
       "<line x1=\"136.7\" y1=\"154.0\" x2=\"136.7\" y2=\"126.0\" opacity=\"1.0\" stroke=\"rgb(0,0,0)\" stroke-width=\"2.0\" />\n",
       "<line x1=\"143.9\" y1=\"120.0\" x2=\"109.3\" y2=\"100.0\" opacity=\"1.0\" stroke=\"rgb(0,0,0)\" stroke-width=\"2.0\" />\n",
       "<text x=\"34.000000\" y=\"188.000000\" fill=\"rgb(255,12,12)\" stroke-width=\"0\" font-weight=\"bold\" font-size=\"16\">O</text>\n",
       "<text x=\"103.282032\" y=\"228.000000\" fill=\"rgb(255,12,12)\" stroke-width=\"0\" font-weight=\"bold\" font-size=\"16\">O</text>\n",
       "<text x=\"148.723048\" y=\"35.968000\" fill=\"rgb(255,12,12)\" stroke-width=\"0\" font-weight=\"bold\" font-size=\"16\" />\n",
       "<text x=\"148.723048\" y=\"35.968000\" fill=\"rgb(255,12,12)\" stroke-width=\"0\" font-weight=\"bold\" font-size=\"32\">.</text>\n",
       "<text x=\"137.923048\" y=\"48.000000\" fill=\"rgb(255,12,12)\" stroke-width=\"0\" font-weight=\"bold\" font-size=\"16\">O</text>\n",
       "<text x=\"68.641016\" y=\"48.000000\" fill=\"rgb(255,12,12)\" stroke-width=\"0\" font-weight=\"bold\" font-size=\"16\">O</text>\n",
       "<text x=\"34.000000\" y=\"108.000000\" fill=\"rgb(191,191,191)\" stroke-width=\"0\" font-weight=\"bold\" font-size=\"16\">H</text>\n",
       "<text x=\"172.564065\" y=\"108.000000\" fill=\"rgb(191,191,191)\" stroke-width=\"0\" font-weight=\"bold\" font-size=\"16\">H</text>\n",
       "<text x=\"172.564065\" y=\"188.000000\" fill=\"rgb(191,191,191)\" stroke-width=\"0\" font-weight=\"bold\" font-size=\"16\">H</text>\n",
       "</svg>\n"
      ],
      "text/plain": [
       "<openbabel.pybel.Molecule at 0x2b6ec0d8cc10>"
      ]
     },
     "execution_count": 91,
     "metadata": {},
     "output_type": "execute_result"
    }
   ],
   "source": [
    "mol"
   ]
  },
  {
   "cell_type": "code",
   "execution_count": null,
   "id": "32faf598-4ff0-44cb-ae00-9a90dae5bfc4",
   "metadata": {},
   "outputs": [],
   "source": []
  }
 ],
 "metadata": {
  "kernelspec": {
   "display_name": "megnet",
   "language": "python",
   "name": "megnet"
  },
  "language_info": {
   "codemirror_mode": {
    "name": "ipython",
    "version": 3
   },
   "file_extension": ".py",
   "mimetype": "text/x-python",
   "name": "python",
   "nbconvert_exporter": "python",
   "pygments_lexer": "ipython3",
   "version": "3.9.10"
  }
 },
 "nbformat": 4,
 "nbformat_minor": 5
}
